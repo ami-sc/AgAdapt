{
 "cells": [
  {
   "cell_type": "markdown",
   "metadata": {
    "collapsed": true,
    "pycharm": {
     "name": "#%% md\n"
    }
   },
   "source": [
    "## 01 | Offspring Codes\n",
    "\n",
    "This notebook contains code for filtering the Offspring_Codes.csv file.\n",
    "\n",
    "**** AgAdapt Project ****"
   ]
  },
  {
   "cell_type": "markdown",
   "source": [
    "- Import required libraries."
   ],
   "metadata": {
    "collapsed": false,
    "pycharm": {
     "name": "#%% md\n"
    }
   }
  },
  {
   "cell_type": "code",
   "execution_count": 1,
   "outputs": [],
   "source": [
    "import pandas as pd"
   ],
   "metadata": {
    "collapsed": false,
    "pycharm": {
     "name": "#%%\n"
    }
   }
  },
  {
   "cell_type": "markdown",
   "source": [
    "- Load the offspring codes into a Pandas DataFrame."
   ],
   "metadata": {
    "collapsed": false,
    "pycharm": {
     "name": "#%% md\n"
    }
   }
  },
  {
   "cell_type": "code",
   "execution_count": 2,
   "outputs": [
    {
     "data": {
      "text/plain": "      Code         Pedigree Female Pedigree  Female ID           Female GBS  \\\n0        2       LH162/CG60           LH162        254   PI539921:250031401   \n1        3        LH82/CG60            LH82        272   PI601170:250032540   \n2        4       LH82/CGR01            LH82        272   PI601170:250032540   \n3        5       LH82/LH198            LH82        272   PI601170:250032540   \n4        6      LH198/CGR01           LH198        258      LH198:100000467   \n...    ...              ...             ...        ...                  ...   \n2196  2484  Z037E0054/LH162       Z037E0054        876  Z037E0054:100001184   \n2197  2485  Z037E0054/PHZ51       Z037E0054        876  Z037E0054:100001184   \n2198  2486  Z038E0057/3IIH6       Z038E0057        877  Z038E0057:100001168   \n2199  2487  Z038E0057/LH162       Z038E0057        877  Z038E0057:100001168   \n2200  2488  Z038E0057/PHZ51       Z038E0057        877  Z038E0057:100001168   \n\n     Male Pedigree  Male ID            Male GBS  \n0             CG60      177      CG60:100001134  \n1             CG60      177      CG60:100001134  \n2            CGR01      179     CGR01:100001221  \n3            LH198      258     LH198:100000467  \n4            CGR01      179     CGR01:100001221  \n...            ...      ...                 ...  \n2196         LH162      254  PI539921:250031401  \n2197         PHZ51      655  PI601322:250040790  \n2198         3IIH6        7     3IIH6:100000120  \n2199         LH162      254  PI539921:250031401  \n2200         PHZ51      655  PI601322:250040790  \n\n[2201 rows x 8 columns]",
      "text/html": "<div>\n<style scoped>\n    .dataframe tbody tr th:only-of-type {\n        vertical-align: middle;\n    }\n\n    .dataframe tbody tr th {\n        vertical-align: top;\n    }\n\n    .dataframe thead th {\n        text-align: right;\n    }\n</style>\n<table border=\"1\" class=\"dataframe\">\n  <thead>\n    <tr style=\"text-align: right;\">\n      <th></th>\n      <th>Code</th>\n      <th>Pedigree</th>\n      <th>Female Pedigree</th>\n      <th>Female ID</th>\n      <th>Female GBS</th>\n      <th>Male Pedigree</th>\n      <th>Male ID</th>\n      <th>Male GBS</th>\n    </tr>\n  </thead>\n  <tbody>\n    <tr>\n      <th>0</th>\n      <td>2</td>\n      <td>LH162/CG60</td>\n      <td>LH162</td>\n      <td>254</td>\n      <td>PI539921:250031401</td>\n      <td>CG60</td>\n      <td>177</td>\n      <td>CG60:100001134</td>\n    </tr>\n    <tr>\n      <th>1</th>\n      <td>3</td>\n      <td>LH82/CG60</td>\n      <td>LH82</td>\n      <td>272</td>\n      <td>PI601170:250032540</td>\n      <td>CG60</td>\n      <td>177</td>\n      <td>CG60:100001134</td>\n    </tr>\n    <tr>\n      <th>2</th>\n      <td>4</td>\n      <td>LH82/CGR01</td>\n      <td>LH82</td>\n      <td>272</td>\n      <td>PI601170:250032540</td>\n      <td>CGR01</td>\n      <td>179</td>\n      <td>CGR01:100001221</td>\n    </tr>\n    <tr>\n      <th>3</th>\n      <td>5</td>\n      <td>LH82/LH198</td>\n      <td>LH82</td>\n      <td>272</td>\n      <td>PI601170:250032540</td>\n      <td>LH198</td>\n      <td>258</td>\n      <td>LH198:100000467</td>\n    </tr>\n    <tr>\n      <th>4</th>\n      <td>6</td>\n      <td>LH198/CGR01</td>\n      <td>LH198</td>\n      <td>258</td>\n      <td>LH198:100000467</td>\n      <td>CGR01</td>\n      <td>179</td>\n      <td>CGR01:100001221</td>\n    </tr>\n    <tr>\n      <th>...</th>\n      <td>...</td>\n      <td>...</td>\n      <td>...</td>\n      <td>...</td>\n      <td>...</td>\n      <td>...</td>\n      <td>...</td>\n      <td>...</td>\n    </tr>\n    <tr>\n      <th>2196</th>\n      <td>2484</td>\n      <td>Z037E0054/LH162</td>\n      <td>Z037E0054</td>\n      <td>876</td>\n      <td>Z037E0054:100001184</td>\n      <td>LH162</td>\n      <td>254</td>\n      <td>PI539921:250031401</td>\n    </tr>\n    <tr>\n      <th>2197</th>\n      <td>2485</td>\n      <td>Z037E0054/PHZ51</td>\n      <td>Z037E0054</td>\n      <td>876</td>\n      <td>Z037E0054:100001184</td>\n      <td>PHZ51</td>\n      <td>655</td>\n      <td>PI601322:250040790</td>\n    </tr>\n    <tr>\n      <th>2198</th>\n      <td>2486</td>\n      <td>Z038E0057/3IIH6</td>\n      <td>Z038E0057</td>\n      <td>877</td>\n      <td>Z038E0057:100001168</td>\n      <td>3IIH6</td>\n      <td>7</td>\n      <td>3IIH6:100000120</td>\n    </tr>\n    <tr>\n      <th>2199</th>\n      <td>2487</td>\n      <td>Z038E0057/LH162</td>\n      <td>Z038E0057</td>\n      <td>877</td>\n      <td>Z038E0057:100001168</td>\n      <td>LH162</td>\n      <td>254</td>\n      <td>PI539921:250031401</td>\n    </tr>\n    <tr>\n      <th>2200</th>\n      <td>2488</td>\n      <td>Z038E0057/PHZ51</td>\n      <td>Z038E0057</td>\n      <td>877</td>\n      <td>Z038E0057:100001168</td>\n      <td>PHZ51</td>\n      <td>655</td>\n      <td>PI601322:250040790</td>\n    </tr>\n  </tbody>\n</table>\n<p>2201 rows × 8 columns</p>\n</div>"
     },
     "execution_count": 2,
     "metadata": {},
     "output_type": "execute_result"
    }
   ],
   "source": [
    "offspring_codes = pd.read_csv(\"../Data/B__Intermediate_Data/Offspring_Codes.csv\")\n",
    "offspring_codes"
   ],
   "metadata": {
    "collapsed": false,
    "pycharm": {
     "name": "#%%\n"
    }
   }
  },
  {
   "cell_type": "markdown",
   "source": [
    "- Discard GBS, ID, and Code columns."
   ],
   "metadata": {
    "collapsed": false,
    "pycharm": {
     "name": "#%% md\n"
    }
   }
  },
  {
   "cell_type": "code",
   "execution_count": 3,
   "outputs": [
    {
     "data": {
      "text/plain": "             Pedigree        Female Parent         Male Parent\n0          LH162/CG60   PI539921:250031401      CG60:100001134\n1           LH82/CG60   PI601170:250032540      CG60:100001134\n2          LH82/CGR01   PI601170:250032540     CGR01:100001221\n3          LH82/LH198   PI601170:250032540     LH198:100000467\n4         LH198/CGR01      LH198:100000467     CGR01:100001221\n...               ...                  ...                 ...\n2196  Z037E0054/LH162  Z037E0054:100001184  PI539921:250031401\n2197  Z037E0054/PHZ51  Z037E0054:100001184  PI601322:250040790\n2198  Z038E0057/3IIH6  Z038E0057:100001168     3IIH6:100000120\n2199  Z038E0057/LH162  Z038E0057:100001168  PI539921:250031401\n2200  Z038E0057/PHZ51  Z038E0057:100001168  PI601322:250040790\n\n[2201 rows x 3 columns]",
      "text/html": "<div>\n<style scoped>\n    .dataframe tbody tr th:only-of-type {\n        vertical-align: middle;\n    }\n\n    .dataframe tbody tr th {\n        vertical-align: top;\n    }\n\n    .dataframe thead th {\n        text-align: right;\n    }\n</style>\n<table border=\"1\" class=\"dataframe\">\n  <thead>\n    <tr style=\"text-align: right;\">\n      <th></th>\n      <th>Pedigree</th>\n      <th>Female Parent</th>\n      <th>Male Parent</th>\n    </tr>\n  </thead>\n  <tbody>\n    <tr>\n      <th>0</th>\n      <td>LH162/CG60</td>\n      <td>PI539921:250031401</td>\n      <td>CG60:100001134</td>\n    </tr>\n    <tr>\n      <th>1</th>\n      <td>LH82/CG60</td>\n      <td>PI601170:250032540</td>\n      <td>CG60:100001134</td>\n    </tr>\n    <tr>\n      <th>2</th>\n      <td>LH82/CGR01</td>\n      <td>PI601170:250032540</td>\n      <td>CGR01:100001221</td>\n    </tr>\n    <tr>\n      <th>3</th>\n      <td>LH82/LH198</td>\n      <td>PI601170:250032540</td>\n      <td>LH198:100000467</td>\n    </tr>\n    <tr>\n      <th>4</th>\n      <td>LH198/CGR01</td>\n      <td>LH198:100000467</td>\n      <td>CGR01:100001221</td>\n    </tr>\n    <tr>\n      <th>...</th>\n      <td>...</td>\n      <td>...</td>\n      <td>...</td>\n    </tr>\n    <tr>\n      <th>2196</th>\n      <td>Z037E0054/LH162</td>\n      <td>Z037E0054:100001184</td>\n      <td>PI539921:250031401</td>\n    </tr>\n    <tr>\n      <th>2197</th>\n      <td>Z037E0054/PHZ51</td>\n      <td>Z037E0054:100001184</td>\n      <td>PI601322:250040790</td>\n    </tr>\n    <tr>\n      <th>2198</th>\n      <td>Z038E0057/3IIH6</td>\n      <td>Z038E0057:100001168</td>\n      <td>3IIH6:100000120</td>\n    </tr>\n    <tr>\n      <th>2199</th>\n      <td>Z038E0057/LH162</td>\n      <td>Z038E0057:100001168</td>\n      <td>PI539921:250031401</td>\n    </tr>\n    <tr>\n      <th>2200</th>\n      <td>Z038E0057/PHZ51</td>\n      <td>Z038E0057:100001168</td>\n      <td>PI601322:250040790</td>\n    </tr>\n  </tbody>\n</table>\n<p>2201 rows × 3 columns</p>\n</div>"
     },
     "execution_count": 3,
     "metadata": {},
     "output_type": "execute_result"
    }
   ],
   "source": [
    "offspring_codes = offspring_codes[[\"Pedigree\", \"Female GBS\", \"Male GBS\"]].copy()\n",
    "offspring_codes.rename({\"Female GBS\" : \"Female Parent\", \"Male GBS\" : \"Male Parent\"}, axis = 1, inplace = True)\n",
    "offspring_codes"
   ],
   "metadata": {
    "collapsed": false,
    "pycharm": {
     "name": "#%%\n"
    }
   }
  },
  {
   "cell_type": "markdown",
   "source": [
    "- Separate the offspring that have missing information for either parent.\n",
    "- Count the number of individuals with missing data."
   ],
   "metadata": {
    "collapsed": false,
    "pycharm": {
     "name": "#%% md\n"
    }
   }
  },
  {
   "cell_type": "code",
   "execution_count": 4,
   "outputs": [
    {
     "name": "stdout",
     "output_type": "stream",
     "text": [
      "Individuals with Missing Parents (#) = 52\n"
     ]
    },
    {
     "data": {
      "text/plain": "               Pedigree       Female Parent  \\\n0           GT603/PHB47                 NaN   \n1           GT603/PHZ51                 NaN   \n2           PHJ31/PHB47                 NaN   \n3     BGEM-0120-N/LH195                 NaN   \n4     BGEM-0122-N/LH195                 NaN   \n5     BGEM-0260-N/LH195                 NaN   \n6     BGEM-0003-N/LH195                 NaN   \n7     BGEM-0088-N/LH195                 NaN   \n8     BGEM-0110-N/LH195                 NaN   \n9     BGEM-0126-N/LH195                 NaN   \n10    BGEM-0192-N/LH195                 NaN   \n11    BGEM-0174-N/LH195                 NaN   \n12    BGEM-0141-N/LH195                 NaN   \n13    BGEM-0144-N/LH195                 NaN   \n14    BGEM-0145-N/LH195                 NaN   \n15    BGEM-0152-N/LH195                 NaN   \n16    BGEM-0242-N/LH195                 NaN   \n17  A3G-3-3-1-313/3IIH6                 NaN   \n18      GEMN-0260/3IIH6                 NaN   \n19      GEMN-0261/3IIH6                 NaN   \n20      GEMN-0263/3IIH6                 NaN   \n21      GEMN-0264/3IIH6                 NaN   \n22      GEMN-0265/3IIH6                 NaN   \n23      GEMN-0266/3IIH6                 NaN   \n24      GEMN-0267/3IIH6                 NaN   \n25          GT603/TX777                 NaN   \n26           LE23/3IIH6                 NaN   \n27          LH195/PH463  PI537097:250033872   \n28        PHHB9/LH123HT                 NaN   \n29          PHHB9/LH185                 NaN   \n30          PHHB9/LH210                 NaN   \n31          PHHB9/NK787                 NaN   \n32          PHHB9/PHJ65                 NaN   \n33          PHHB9/PHM49                 NaN   \n34          PHHB9/PHM57                 NaN   \n35          PHHB9/PHN47                 NaN   \n36          PHHB9/PHN82                 NaN   \n37          PHHB9/PHP60                 NaN   \n38          PHHB9/PHR03                 NaN   \n39          PHHB9/PHR55                 NaN   \n40          PHHB9/PHR63                 NaN   \n41          PHHB9/PHW30                 NaN   \n42          PHHB9/PHW53                 NaN   \n43          PHHB9/PHZ51                 NaN   \n44           PHHB9/Q381                 NaN   \n45    W10004_0011/3IIH6                 NaN   \n46    W10004_0026/3IIH6                 NaN   \n47      Z033E0056/3IIH6                 NaN   \n48      Z033E0056/LH162                 NaN   \n49      Z033E0056/PHZ51                 NaN   \n50      Z036E0034/LH162                 NaN   \n51      Z036E0034/PHZ51                 NaN   \n\n                                          Male Parent  \n0                                     PHB47:100000755  \n1                                  PI601322:250040790  \n2                                     PHB47:100000755  \n3                                  PI537097:250033872  \n4                                  PI537097:250033872  \n5                                  PI537097:250033872  \n6                                  PI537097:250033872  \n7                                  PI537097:250033872  \n8                                  PI537097:250033872  \n9                                  PI537097:250033872  \n10                                 PI537097:250033872  \n11                                 PI537097:250033872  \n12                                 PI537097:250033872  \n13                                 PI537097:250033872  \n14                                 PI537097:250033872  \n15                                 PI537097:250033872  \n16                                 PI537097:250033872  \n17                                    3IIH6:100000120  \n18                                    3IIH6:100000120  \n19                                    3IIH6:100000120  \n20                                    3IIH6:100000120  \n21                                    3IIH6:100000120  \n22                                    3IIH6:100000120  \n23                                    3IIH6:100000120  \n24                                    3IIH6:100000120  \n25  (LAMA2002-23-3-B/LAMA2002-58-4-B)-B-B-2-3-B-B-...  \n26                                    3IIH6:100000120  \n27                                                NaN  \n28                                  LH123Ht:250007441  \n29                                    LH185:100000283  \n30                                    LH210:100000561  \n31                                 PI601490:250032971  \n32                                    PHJ65:100001187  \n33                                 PI601568:250031201  \n34                                    PHM57:100000682  \n35                                    PHN47:100000726  \n36                                 PI601783:250031695  \n37                                    PHP60:100000588  \n38                                    PHR03:100000979  \n39                                    PHR55:100000640  \n40                                    PHR63:100000747  \n41                                    PHW30:100000675  \n42                                    PHW53:100000458  \n43                                 PI601322:250040790  \n44                                 PI601190:250032427  \n45                                    3IIH6:100000120  \n46                                    3IIH6:100000120  \n47                                    3IIH6:100000120  \n48                                 PI539921:250031401  \n49                                 PI601322:250040790  \n50                                 PI539921:250031401  \n51                                 PI601322:250040790  ",
      "text/html": "<div>\n<style scoped>\n    .dataframe tbody tr th:only-of-type {\n        vertical-align: middle;\n    }\n\n    .dataframe tbody tr th {\n        vertical-align: top;\n    }\n\n    .dataframe thead th {\n        text-align: right;\n    }\n</style>\n<table border=\"1\" class=\"dataframe\">\n  <thead>\n    <tr style=\"text-align: right;\">\n      <th></th>\n      <th>Pedigree</th>\n      <th>Female Parent</th>\n      <th>Male Parent</th>\n    </tr>\n  </thead>\n  <tbody>\n    <tr>\n      <th>0</th>\n      <td>GT603/PHB47</td>\n      <td>NaN</td>\n      <td>PHB47:100000755</td>\n    </tr>\n    <tr>\n      <th>1</th>\n      <td>GT603/PHZ51</td>\n      <td>NaN</td>\n      <td>PI601322:250040790</td>\n    </tr>\n    <tr>\n      <th>2</th>\n      <td>PHJ31/PHB47</td>\n      <td>NaN</td>\n      <td>PHB47:100000755</td>\n    </tr>\n    <tr>\n      <th>3</th>\n      <td>BGEM-0120-N/LH195</td>\n      <td>NaN</td>\n      <td>PI537097:250033872</td>\n    </tr>\n    <tr>\n      <th>4</th>\n      <td>BGEM-0122-N/LH195</td>\n      <td>NaN</td>\n      <td>PI537097:250033872</td>\n    </tr>\n    <tr>\n      <th>5</th>\n      <td>BGEM-0260-N/LH195</td>\n      <td>NaN</td>\n      <td>PI537097:250033872</td>\n    </tr>\n    <tr>\n      <th>6</th>\n      <td>BGEM-0003-N/LH195</td>\n      <td>NaN</td>\n      <td>PI537097:250033872</td>\n    </tr>\n    <tr>\n      <th>7</th>\n      <td>BGEM-0088-N/LH195</td>\n      <td>NaN</td>\n      <td>PI537097:250033872</td>\n    </tr>\n    <tr>\n      <th>8</th>\n      <td>BGEM-0110-N/LH195</td>\n      <td>NaN</td>\n      <td>PI537097:250033872</td>\n    </tr>\n    <tr>\n      <th>9</th>\n      <td>BGEM-0126-N/LH195</td>\n      <td>NaN</td>\n      <td>PI537097:250033872</td>\n    </tr>\n    <tr>\n      <th>10</th>\n      <td>BGEM-0192-N/LH195</td>\n      <td>NaN</td>\n      <td>PI537097:250033872</td>\n    </tr>\n    <tr>\n      <th>11</th>\n      <td>BGEM-0174-N/LH195</td>\n      <td>NaN</td>\n      <td>PI537097:250033872</td>\n    </tr>\n    <tr>\n      <th>12</th>\n      <td>BGEM-0141-N/LH195</td>\n      <td>NaN</td>\n      <td>PI537097:250033872</td>\n    </tr>\n    <tr>\n      <th>13</th>\n      <td>BGEM-0144-N/LH195</td>\n      <td>NaN</td>\n      <td>PI537097:250033872</td>\n    </tr>\n    <tr>\n      <th>14</th>\n      <td>BGEM-0145-N/LH195</td>\n      <td>NaN</td>\n      <td>PI537097:250033872</td>\n    </tr>\n    <tr>\n      <th>15</th>\n      <td>BGEM-0152-N/LH195</td>\n      <td>NaN</td>\n      <td>PI537097:250033872</td>\n    </tr>\n    <tr>\n      <th>16</th>\n      <td>BGEM-0242-N/LH195</td>\n      <td>NaN</td>\n      <td>PI537097:250033872</td>\n    </tr>\n    <tr>\n      <th>17</th>\n      <td>A3G-3-3-1-313/3IIH6</td>\n      <td>NaN</td>\n      <td>3IIH6:100000120</td>\n    </tr>\n    <tr>\n      <th>18</th>\n      <td>GEMN-0260/3IIH6</td>\n      <td>NaN</td>\n      <td>3IIH6:100000120</td>\n    </tr>\n    <tr>\n      <th>19</th>\n      <td>GEMN-0261/3IIH6</td>\n      <td>NaN</td>\n      <td>3IIH6:100000120</td>\n    </tr>\n    <tr>\n      <th>20</th>\n      <td>GEMN-0263/3IIH6</td>\n      <td>NaN</td>\n      <td>3IIH6:100000120</td>\n    </tr>\n    <tr>\n      <th>21</th>\n      <td>GEMN-0264/3IIH6</td>\n      <td>NaN</td>\n      <td>3IIH6:100000120</td>\n    </tr>\n    <tr>\n      <th>22</th>\n      <td>GEMN-0265/3IIH6</td>\n      <td>NaN</td>\n      <td>3IIH6:100000120</td>\n    </tr>\n    <tr>\n      <th>23</th>\n      <td>GEMN-0266/3IIH6</td>\n      <td>NaN</td>\n      <td>3IIH6:100000120</td>\n    </tr>\n    <tr>\n      <th>24</th>\n      <td>GEMN-0267/3IIH6</td>\n      <td>NaN</td>\n      <td>3IIH6:100000120</td>\n    </tr>\n    <tr>\n      <th>25</th>\n      <td>GT603/TX777</td>\n      <td>NaN</td>\n      <td>(LAMA2002-23-3-B/LAMA2002-58-4-B)-B-B-2-3-B-B-...</td>\n    </tr>\n    <tr>\n      <th>26</th>\n      <td>LE23/3IIH6</td>\n      <td>NaN</td>\n      <td>3IIH6:100000120</td>\n    </tr>\n    <tr>\n      <th>27</th>\n      <td>LH195/PH463</td>\n      <td>PI537097:250033872</td>\n      <td>NaN</td>\n    </tr>\n    <tr>\n      <th>28</th>\n      <td>PHHB9/LH123HT</td>\n      <td>NaN</td>\n      <td>LH123Ht:250007441</td>\n    </tr>\n    <tr>\n      <th>29</th>\n      <td>PHHB9/LH185</td>\n      <td>NaN</td>\n      <td>LH185:100000283</td>\n    </tr>\n    <tr>\n      <th>30</th>\n      <td>PHHB9/LH210</td>\n      <td>NaN</td>\n      <td>LH210:100000561</td>\n    </tr>\n    <tr>\n      <th>31</th>\n      <td>PHHB9/NK787</td>\n      <td>NaN</td>\n      <td>PI601490:250032971</td>\n    </tr>\n    <tr>\n      <th>32</th>\n      <td>PHHB9/PHJ65</td>\n      <td>NaN</td>\n      <td>PHJ65:100001187</td>\n    </tr>\n    <tr>\n      <th>33</th>\n      <td>PHHB9/PHM49</td>\n      <td>NaN</td>\n      <td>PI601568:250031201</td>\n    </tr>\n    <tr>\n      <th>34</th>\n      <td>PHHB9/PHM57</td>\n      <td>NaN</td>\n      <td>PHM57:100000682</td>\n    </tr>\n    <tr>\n      <th>35</th>\n      <td>PHHB9/PHN47</td>\n      <td>NaN</td>\n      <td>PHN47:100000726</td>\n    </tr>\n    <tr>\n      <th>36</th>\n      <td>PHHB9/PHN82</td>\n      <td>NaN</td>\n      <td>PI601783:250031695</td>\n    </tr>\n    <tr>\n      <th>37</th>\n      <td>PHHB9/PHP60</td>\n      <td>NaN</td>\n      <td>PHP60:100000588</td>\n    </tr>\n    <tr>\n      <th>38</th>\n      <td>PHHB9/PHR03</td>\n      <td>NaN</td>\n      <td>PHR03:100000979</td>\n    </tr>\n    <tr>\n      <th>39</th>\n      <td>PHHB9/PHR55</td>\n      <td>NaN</td>\n      <td>PHR55:100000640</td>\n    </tr>\n    <tr>\n      <th>40</th>\n      <td>PHHB9/PHR63</td>\n      <td>NaN</td>\n      <td>PHR63:100000747</td>\n    </tr>\n    <tr>\n      <th>41</th>\n      <td>PHHB9/PHW30</td>\n      <td>NaN</td>\n      <td>PHW30:100000675</td>\n    </tr>\n    <tr>\n      <th>42</th>\n      <td>PHHB9/PHW53</td>\n      <td>NaN</td>\n      <td>PHW53:100000458</td>\n    </tr>\n    <tr>\n      <th>43</th>\n      <td>PHHB9/PHZ51</td>\n      <td>NaN</td>\n      <td>PI601322:250040790</td>\n    </tr>\n    <tr>\n      <th>44</th>\n      <td>PHHB9/Q381</td>\n      <td>NaN</td>\n      <td>PI601190:250032427</td>\n    </tr>\n    <tr>\n      <th>45</th>\n      <td>W10004_0011/3IIH6</td>\n      <td>NaN</td>\n      <td>3IIH6:100000120</td>\n    </tr>\n    <tr>\n      <th>46</th>\n      <td>W10004_0026/3IIH6</td>\n      <td>NaN</td>\n      <td>3IIH6:100000120</td>\n    </tr>\n    <tr>\n      <th>47</th>\n      <td>Z033E0056/3IIH6</td>\n      <td>NaN</td>\n      <td>3IIH6:100000120</td>\n    </tr>\n    <tr>\n      <th>48</th>\n      <td>Z033E0056/LH162</td>\n      <td>NaN</td>\n      <td>PI539921:250031401</td>\n    </tr>\n    <tr>\n      <th>49</th>\n      <td>Z033E0056/PHZ51</td>\n      <td>NaN</td>\n      <td>PI601322:250040790</td>\n    </tr>\n    <tr>\n      <th>50</th>\n      <td>Z036E0034/LH162</td>\n      <td>NaN</td>\n      <td>PI539921:250031401</td>\n    </tr>\n    <tr>\n      <th>51</th>\n      <td>Z036E0034/PHZ51</td>\n      <td>NaN</td>\n      <td>PI601322:250040790</td>\n    </tr>\n  </tbody>\n</table>\n</div>"
     },
     "execution_count": 4,
     "metadata": {},
     "output_type": "execute_result"
    }
   ],
   "source": [
    "missing_parents = offspring_codes[offspring_codes.isnull().any(axis = 1)].copy()\n",
    "missing_parents.reset_index(drop = True, inplace = True)\n",
    "\n",
    "print(\"Individuals with Missing Parents (#) =\", missing_parents.shape[0])\n",
    "\n",
    "missing_parents"
   ],
   "metadata": {
    "collapsed": false,
    "pycharm": {
     "name": "#%%\n"
    }
   }
  },
  {
   "cell_type": "markdown",
   "source": [
    "- Remove the offspring with missing data from the main dataset."
   ],
   "metadata": {
    "collapsed": false,
    "pycharm": {
     "name": "#%% md\n"
    }
   }
  },
  {
   "cell_type": "code",
   "execution_count": 5,
   "outputs": [
    {
     "data": {
      "text/plain": "             Pedigree        Female Parent         Male Parent\n0          LH162/CG60   PI539921:250031401      CG60:100001134\n1           LH82/CG60   PI601170:250032540      CG60:100001134\n2          LH82/CGR01   PI601170:250032540     CGR01:100001221\n3          LH82/LH198   PI601170:250032540     LH198:100000467\n4         LH198/CGR01      LH198:100000467     CGR01:100001221\n...               ...                  ...                 ...\n2144  Z037E0054/LH162  Z037E0054:100001184  PI539921:250031401\n2145  Z037E0054/PHZ51  Z037E0054:100001184  PI601322:250040790\n2146  Z038E0057/3IIH6  Z038E0057:100001168     3IIH6:100000120\n2147  Z038E0057/LH162  Z038E0057:100001168  PI539921:250031401\n2148  Z038E0057/PHZ51  Z038E0057:100001168  PI601322:250040790\n\n[2149 rows x 3 columns]",
      "text/html": "<div>\n<style scoped>\n    .dataframe tbody tr th:only-of-type {\n        vertical-align: middle;\n    }\n\n    .dataframe tbody tr th {\n        vertical-align: top;\n    }\n\n    .dataframe thead th {\n        text-align: right;\n    }\n</style>\n<table border=\"1\" class=\"dataframe\">\n  <thead>\n    <tr style=\"text-align: right;\">\n      <th></th>\n      <th>Pedigree</th>\n      <th>Female Parent</th>\n      <th>Male Parent</th>\n    </tr>\n  </thead>\n  <tbody>\n    <tr>\n      <th>0</th>\n      <td>LH162/CG60</td>\n      <td>PI539921:250031401</td>\n      <td>CG60:100001134</td>\n    </tr>\n    <tr>\n      <th>1</th>\n      <td>LH82/CG60</td>\n      <td>PI601170:250032540</td>\n      <td>CG60:100001134</td>\n    </tr>\n    <tr>\n      <th>2</th>\n      <td>LH82/CGR01</td>\n      <td>PI601170:250032540</td>\n      <td>CGR01:100001221</td>\n    </tr>\n    <tr>\n      <th>3</th>\n      <td>LH82/LH198</td>\n      <td>PI601170:250032540</td>\n      <td>LH198:100000467</td>\n    </tr>\n    <tr>\n      <th>4</th>\n      <td>LH198/CGR01</td>\n      <td>LH198:100000467</td>\n      <td>CGR01:100001221</td>\n    </tr>\n    <tr>\n      <th>...</th>\n      <td>...</td>\n      <td>...</td>\n      <td>...</td>\n    </tr>\n    <tr>\n      <th>2144</th>\n      <td>Z037E0054/LH162</td>\n      <td>Z037E0054:100001184</td>\n      <td>PI539921:250031401</td>\n    </tr>\n    <tr>\n      <th>2145</th>\n      <td>Z037E0054/PHZ51</td>\n      <td>Z037E0054:100001184</td>\n      <td>PI601322:250040790</td>\n    </tr>\n    <tr>\n      <th>2146</th>\n      <td>Z038E0057/3IIH6</td>\n      <td>Z038E0057:100001168</td>\n      <td>3IIH6:100000120</td>\n    </tr>\n    <tr>\n      <th>2147</th>\n      <td>Z038E0057/LH162</td>\n      <td>Z038E0057:100001168</td>\n      <td>PI539921:250031401</td>\n    </tr>\n    <tr>\n      <th>2148</th>\n      <td>Z038E0057/PHZ51</td>\n      <td>Z038E0057:100001168</td>\n      <td>PI601322:250040790</td>\n    </tr>\n  </tbody>\n</table>\n<p>2149 rows × 3 columns</p>\n</div>"
     },
     "execution_count": 5,
     "metadata": {},
     "output_type": "execute_result"
    }
   ],
   "source": [
    "offspring_codes = offspring_codes.dropna()\n",
    "offspring_codes.reset_index(drop = True, inplace = True)\n",
    "offspring_codes"
   ],
   "metadata": {
    "collapsed": false,
    "pycharm": {
     "name": "#%%\n"
    }
   }
  },
  {
   "cell_type": "markdown",
   "source": [
    "- Save the Offspring Codes Dataset into a new .csv file.\n",
    "- Save the Missing Parents Dataset into a separate .csv file."
   ],
   "metadata": {
    "collapsed": false,
    "pycharm": {
     "name": "#%% md\n"
    }
   }
  },
  {
   "cell_type": "code",
   "execution_count": 6,
   "outputs": [
    {
     "name": "stdout",
     "output_type": "stream",
     "text": [
      "Missing Parents Dataset saved!\n",
      "Filtered Offspring Codes Dataset saved!\n"
     ]
    }
   ],
   "source": [
    "missing_parents.to_csv(\"../Data/C__Processed_Data/Supplemental_Data/Offspring_Missing_Parents.csv\", index = False)\n",
    "print(\"Missing Parents Dataset saved!\")\n",
    "\n",
    "offspring_codes.to_csv(\"../Data/C__Processed_Data/Supplemental_Data/Filtered_Offspring_Codes.csv\", index = False)\n",
    "print(\"Filtered Offspring Codes Dataset saved!\")"
   ],
   "metadata": {
    "collapsed": false,
    "pycharm": {
     "name": "#%%\n"
    }
   }
  }
 ],
 "metadata": {
  "kernelspec": {
   "display_name": "Python 3",
   "language": "python",
   "name": "python3"
  },
  "language_info": {
   "codemirror_mode": {
    "name": "ipython",
    "version": 2
   },
   "file_extension": ".py",
   "mimetype": "text/x-python",
   "name": "python",
   "nbconvert_exporter": "python",
   "pygments_lexer": "ipython2",
   "version": "2.7.6"
  }
 },
 "nbformat": 4,
 "nbformat_minor": 0
}